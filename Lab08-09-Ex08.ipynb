{
 "cells": [
  {
   "cell_type": "markdown",
   "metadata": {
    "dotnet_interactive": {
     "language": "csharp"
    },
    "polyglot_notebook": {
     "kernelName": "csharp"
    }
   },
   "source": [
    "# Lab 8 Exercise 8\n",
    "\n",
    "## Static Class"
   ]
  },
  {
   "cell_type": "markdown",
   "metadata": {},
   "source": [
    "1. สร้าง console application project\n",
    "\n",
    "```\n",
    "    dotnet new console --name Lab08_Ex08\n",
    "```"
   ]
  },
  {
   "cell_type": "markdown",
   "metadata": {},
   "source": [
    "2. เปลี่ยน code ให้เป็นดังต่อไปนี้\n",
    "\n",
    "> ```csharp\n",
    ">  1. int x = 2, y = 3;\n",
    ">  2. int add_result = Calculator.add(x, y);\n",
    ">  3. System.Console.WriteLine($\"{x} + {y} = {add_result}\");\n",
    ">  4. \n",
    ">  5. int i = 2, j = 3;\n",
    ">  6. int multiply_result = Calculator.multiply(i, j);\n",
    ">  7. System.Console.WriteLine($\"{i} x {j} = {multiply_result}\");\n",
    ">  8. \n",
    ">  9. public static class Calculator\n",
    "> 10. {\n",
    "> 11.     public static int add(int a, int b)\n",
    "> 12.     {\n",
    "> 13.         return a + b;\n",
    "> 14.     }\n",
    "> 15.     public static int multiply(int a, int b)\n",
    "> 16.     {\n",
    "> 17.         return a * b;\n",
    "> 18.     }\n",
    "> 19. }\n",
    "> ```\n",
    "\n"
   ]
  },
  {
   "cell_type": "markdown",
   "metadata": {},
   "source": [
    "3. Build project โดยการใช้คำสั่ง\n",
    "\n",
    "```\n",
    "    dotnet build  Lab08_Ex08\n",
    "```\n",
    "\n"
   ]
  },
  {
   "cell_type": "markdown",
   "metadata": {},
   "source": [
    "4. บันทึกผลที่ได้จากการรันคำสั่งในข้อ 3\n",
    "\n"
   ]
  },
  {
   "cell_type": "markdown",
   "metadata": {},
   "source": [
    "*คำตอบ*"
   ]
  },
  {
   "cell_type": "markdown",
   "metadata": {},
   "source": [
    "PS C:\\Users\\user\\Downloads\\Lab\\Lab08-CSharp-Class-Part-I> dotnet build  Lab08_Ex08\n",
    "Restore complete (0.2s)\n",
    "  Lab08_Ex08 succeeded (0.3s) → Lab08_Ex08\\bin\\Debug\\net9.0\\Lab08_Ex08.dll\n",
    "\n",
    "Build succeeded in 0.9s"
   ]
  },
  {
   "cell_type": "markdown",
   "metadata": {},
   "source": [
    "5. Run project โดยการใช้คำสั่ง\n",
    "\n",
    "```\n",
    "    dotnet run --project Lab08_Ex08\n",
    "```"
   ]
  },
  {
   "cell_type": "markdown",
   "metadata": {},
   "source": [
    "6. บันทึกผลที่ได้จากการรันคำสั่งในข้อ 5\n",
    "\n",
    "\n"
   ]
  },
  {
   "cell_type": "markdown",
   "metadata": {},
   "source": [
    "*คำตอบ*"
   ]
  },
  {
   "cell_type": "markdown",
   "metadata": {},
   "source": [
    "PS C:\\Users\\user\\Downloads\\Lab\\Lab08-CSharp-Class-Part-I> dotnet run --project Lab08_Ex08\n",
    "\n",
    "2 + 3 = 5\n",
    "\n",
    "2 x 3 = 6"
   ]
  },
  {
   "cell_type": "markdown",
   "metadata": {},
   "source": [
    "7. อธิบายสิ่งที่พบในการทดลอง\n",
    "\n"
   ]
  },
  {
   "cell_type": "markdown",
   "metadata": {},
   "source": [
    "*คำตอบ*"
   ]
  },
  {
   "cell_type": "markdown",
   "metadata": {},
   "source": [
    "เมื่อทำการ build และ run จะไม่พบ warning หรือ error ใดๆ"
   ]
  },
  {
   "cell_type": "markdown",
   "metadata": {},
   "source": [
    "8. นำ code ในข้อ 2 มารันบน polyglot notebook  โดยใส่ใน  code cell ด้านล่างนี้\n"
   ]
  },
  {
   "cell_type": "code",
   "execution_count": null,
   "metadata": {},
   "outputs": [
    {
     "name": "stdout",
     "output_type": "stream",
     "text": [
      "2 + 3 = 5\n",
      "2 x 3 = 6\n"
     ]
    }
   ],
   "source": [
    "// พื้นที่เขียน code ตามข้อ 2\n",
    "int x = 2, y = 3;\n",
    "   int add_result = Calculator.add(x, y);\n",
    "   System.Console.WriteLine($\"{x} + {y} = {add_result}\");\n",
    "   \n",
    "   int i = 2, j = 3;\n",
    "   int multiply_result = Calculator.multiply(i, j);\n",
    "   System.Console.WriteLine($\"{i} x {j} = {multiply_result}\");\n",
    "   \n",
    "   public static class Calculator\n",
    "  {\n",
    "      public static int add(int a, int b)\n",
    "      {\n",
    "          return a + b;\n",
    "      }\n",
    "      public static int multiply(int a, int b)\n",
    "      {\n",
    "          return a * b;\n",
    "      }\n",
    "  }\n"
   ]
  },
  {
   "cell_type": "markdown",
   "metadata": {},
   "source": [
    "8.1 ผลการรันเป็นอย่างไร\n",
    "\n"
   ]
  },
  {
   "cell_type": "markdown",
   "metadata": {},
   "source": [
    "*คำตอบ*"
   ]
  },
  {
   "cell_type": "markdown",
   "metadata": {},
   "source": [
    "2 + 3 = 5\n",
    "\n",
    "2 x 3 = 6"
   ]
  },
  {
   "cell_type": "markdown",
   "metadata": {},
   "source": [
    "8.2 เหมือนหรือต่างจาก console application อย่างไร"
   ]
  },
  {
   "cell_type": "markdown",
   "metadata": {},
   "source": [
    "*คำตอบ*"
   ]
  },
  {
   "cell_type": "markdown",
   "metadata": {},
   "source": [
    "เหมือนกัน"
   ]
  },
  {
   "cell_type": "markdown",
   "metadata": {},
   "source": [
    "## คำถาม"
   ]
  },
  {
   "cell_type": "markdown",
   "metadata": {},
   "source": [
    "1. static class คืออะไร และแตกต่างจาก class ธรรมดาอย่างไร"
   ]
  },
  {
   "cell_type": "markdown",
   "metadata": {},
   "source": [
    "*คำตอบ*"
   ]
  },
  {
   "cell_type": "markdown",
   "metadata": {},
   "source": [
    "static class คือคลาสที่ไม่สามารถสร้างอ็อบเจ็กต์ (Instance) ได้ และสามารถเข้าถึงได้โดยตรงผ่านชื่อคลาสเท่านั้น\n",
    "\n",
    "ความแตกต่าง\n",
    "\n",
    "static class > สร้าง Instance ไม่ได้ >สมาชิกของคลาส ต้องเป็น static เท่านั้น > การเรียกใช้งาน ClassName.MethodName() >การใช้ใน OOP มักใช้เก็บฟังก์ชันที่ไม่ต้องมี State\n",
    "\n",
    "class ทั่วไป >สร้าง Instance ได้ >สมาชิกของคลาส มีได้ทั้ง static และ non-static > การเรียกใช้งาน ใช้ผ่าน Instance เช่น obj.MethodName() >การใช้ใน OOP ใช้สร้างobjectและมีข้อมูลเฉพาะตัว"
   ]
  },
  {
   "cell_type": "markdown",
   "metadata": {},
   "source": [
    "2. เมื่อไหร่ควรใช้ static class และเมื่อไหร่ควรใช้ class ธรรมดา"
   ]
  },
  {
   "cell_type": "markdown",
   "metadata": {},
   "source": [
    "*คำตอบ*"
   ]
  },
  {
   "cell_type": "markdown",
   "metadata": {},
   "source": [
    "ควรใช้ static class หากคุณต้องการสร้าง คลาสที่มีฟังก์ชันที่ไม่จำเป็นต้องมีข้อมูลหรือสถานะ เช่น เครื่องมือช่วยต่าง ๆ\n",
    "ใช้เมื่อฟังก์ชันเหล่านั้นไม่เกี่ยวข้องกับสถานะของอ็อบเจ็กต์\n",
    "\n",
    "ควรใช้ class ธรรมดา เมื่อคุณต้องการ สร้างหลายอินสแตนซ์ ที่มี ข้อมูลและสถานะแตกต่างกัน ตามแต่ละอ็อบเจ็กต์\n",
    "หากคลาสนั้นจะทำงานกับข้อมูลที่ไม่เหมือนกันในแต่ละอ็อบเจ็กต์"
   ]
  },
  {
   "cell_type": "markdown",
   "metadata": {},
   "source": [
    "3. สมาชิกทั้งหมดของ static class ต้องเป็น static หรือไม่ เพราะอะไร"
   ]
  },
  {
   "cell_type": "markdown",
   "metadata": {},
   "source": [
    "*คำตอบ*"
   ]
  },
  {
   "cell_type": "markdown",
   "metadata": {},
   "source": [
    "สมาชิกทั้งหมดใน static class ต้องเป็น static เพราะ คลาส static ไม่สามารถสร้างอ็อบเจ็กต์ได้ และ สมาชิก static จะถูกใช้ร่วมกันในคลาสนั้น ๆ โดยไม่ต้องมีการสร้างอินสแตนซ์ของคลาส\n",
    "การที่สมาชิกเป็น static ทำให้สามารถเข้าถึงและใช้ได้โดยตรงจากชื่อคลาส ซึ่งเป็นข้อกำหนดของการออกแบบ static class"
   ]
  },
  {
   "cell_type": "markdown",
   "metadata": {},
   "source": [
    "4. เราสามารถสร้าง instance ของ static class ได้หรือไม่  เพราะอะไร"
   ]
  },
  {
   "cell_type": "markdown",
   "metadata": {},
   "source": [
    "*คำตอบ*"
   ]
  },
  {
   "cell_type": "markdown",
   "metadata": {},
   "source": [
    "ไม่สามารถสร้าง instance ของ static class ได้ เพราะว่า static class ไม่มีตัวสร้าง (constructor) และ ไม่รองรับการสร้างอ็อบเจ็กต์ เนื่องจากมันถูกออกแบบมาเพื่อใช้งานกับสมาชิก static เท่านั้น ซึ่งจะใช้ได้โดยตรงจากชื่อคลาส โดยไม่ต้องมีการสร้างอ็อบเจ็กต์"
   ]
  }
 ],
 "metadata": {
  "kernelspec": {
   "display_name": ".NET (C#)",
   "language": "C#",
   "name": ".net-csharp"
  },
  "polyglot_notebook": {
   "kernelInfo": {
    "defaultKernelName": "csharp",
    "items": [
     {
      "aliases": [],
      "languageName": "csharp",
      "name": "csharp"
     }
    ]
   }
  }
 },
 "nbformat": 4,
 "nbformat_minor": 2
}
