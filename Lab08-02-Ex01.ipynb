{
 "cells": [
  {
   "cell_type": "markdown",
   "metadata": {},
   "source": [
    "# Lab 8 Exercise 1 \n",
    "##  การสร้าง Class\n"
   ]
  },
  {
   "cell_type": "markdown",
   "metadata": {},
   "source": [
    "\n",
    "1. สร้าง console application project\n"
   ]
  },
  {
   "cell_type": "markdown",
   "metadata": {},
   "source": [
    "1.1 เรียก terminal (cmd) ขึ้นมา \n",
    "\n",
    "1.2 ตรวจสอบให้แน่ใจว่าอยู่ใน folder หรือ directory ที่ต้องการสร้าง project \n",
    "\n",
    "1.3 พิมพ์คำสั่งต่อไปนี้\n",
    "\n",
    "``` \n",
    "    dotnet new console --name Lab08_Ex01\n",
    "```\n",
    "\n",
    "1.4 ใช้คำสั่ง dir เพื่อตรวจสอบดูว่าโฟลเดอร์ของ project ได้ถูกสร้างขึ้นแล้วหรือยัง"
   ]
  },
  {
   "cell_type": "markdown",
   "metadata": {},
   "source": [
    "\n",
    "2. เปลี่ยน code ในไฟล์ program.cs ให้เป็นดังต่อไปนี้ (ตัวเลขข้างหน้า คือหมายเลขบรรทัด ไว้สำหรับอ้างอิง)\n",
    "\n",
    "> ```c#\n",
    "> 1.  Person p = new Person();\n",
    "> 2.  System.Console.WriteLine($\"Type of p is {p.GetType()}\");\n",
    "> 3.  \n",
    "> 4.  class Person\n",
    "> 5.  {\n",
    "> 6.  \n",
    "> 7.  }\n",
    "> ```\n"
   ]
  },
  {
   "cell_type": "markdown",
   "metadata": {},
   "source": [
    "\n",
    "3. Build project โดยการใช้คำสั่ง\n",
    "\n",
    "```\n",
    "dotnet build  Lab08_Ex01\n",
    "```\n"
   ]
  },
  {
   "cell_type": "markdown",
   "metadata": {},
   "source": [
    "\n",
    "4. บันทึกผลที่ได้จากการรันคำสั่งในข้อ 3\n"
   ]
  },
  {
   "cell_type": "markdown",
   "metadata": {},
   "source": [
    "*คำตอบ*"
   ]
  },
  {
   "cell_type": "markdown",
   "metadata": {},
   "source": [
    "Restore complete (0.3s)\n",
    "  Lab08_Ex01 succeeded (2.5s) → Lab08_Ex01\\bin\\Debug\\net9.0\\Lab08_Ex01.dll\n",
    "\n",
    "Build succeeded in 3.2s"
   ]
  },
  {
   "cell_type": "markdown",
   "metadata": {},
   "source": [
    "\n",
    "5. Run project โดยการใช้คำสั่ง\n",
    "\n",
    "```\n",
    "dotnet run --project Lab08_Ex01\n",
    "```\n"
   ]
  },
  {
   "cell_type": "markdown",
   "metadata": {},
   "source": [
    "\n",
    "6. บันทึกผลที่ได้จากการรันคำสั่งในข้อ 5\n"
   ]
  },
  {
   "cell_type": "markdown",
   "metadata": {},
   "source": [
    "*คำตอบ*"
   ]
  },
  {
   "cell_type": "markdown",
   "metadata": {},
   "source": [
    "PS C:\\Users\\user\\Downloads\\Lab\\Lab08-CSharp-Class-Part-I> dotnet run --project Lab08_Ex01\n",
    "Type of p is Person"
   ]
  },
  {
   "cell_type": "markdown",
   "metadata": {},
   "source": [
    "7. โค้ดต่อไปนี้สามารถรันได้ใน polyglot notebook หรือไม่ "
   ]
  },
  {
   "cell_type": "code",
   "execution_count": null,
   "metadata": {
    "dotnet_interactive": {
     "language": "csharp"
    },
    "polyglot_notebook": {
     "kernelName": "csharp"
    }
   },
   "outputs": [
    {
     "name": "stdout",
     "output_type": "stream",
     "text": [
      "Type of p is Submission#1+Person\r\n"
     ]
    }
   ],
   "source": [
    "Person p = new Person();\n",
    "System.Console.WriteLine($\"Type of p is {p.GetType()}\");\n",
    "\n",
    "class Person\n",
    "{\n",
    "\n",
    "}"
   ]
  },
  {
   "cell_type": "markdown",
   "metadata": {},
   "source": [
    "*คำตอบ*"
   ]
  },
  {
   "cell_type": "markdown",
   "metadata": {},
   "source": [
    "สามารถรันได้ เเสดงผลว่า Type of p is Submission#1+Person"
   ]
  },
  {
   "cell_type": "markdown",
   "metadata": {},
   "source": [
    "## คำถาม\n",
    "\n"
   ]
  },
  {
   "cell_type": "markdown",
   "metadata": {},
   "source": [
    "1. Class ในภาษา C# คืออะไร\n"
   ]
  },
  {
   "cell_type": "markdown",
   "metadata": {},
   "source": [
    "*คำตอบ*"
   ]
  },
  {
   "cell_type": "markdown",
   "metadata": {},
   "source": [
    "คลาส (Class) เป็นการกำหนดแม่แบบ (Template) หรือแบบแผนในการสร้างออบเจ็กต์ (Object) ซึ่งเป็นการจัดกลุ่มข้อมูล (Attributes) และฟังก์ชัน (Methods) ที่ทำงานกับข้อมูลนั้นๆ ไว้ในที่เดียวกัน โดยคลาสเป็นองค์ประกอบหลักของการเขียนโปรแกรมเชิงวัตถุ"
   ]
  },
  {
   "cell_type": "markdown",
   "metadata": {},
   "source": [
    "2. Class มีหน้าที่อะไร\n"
   ]
  },
  {
   "cell_type": "markdown",
   "metadata": {},
   "source": [
    "*คำตอบ*"
   ]
  },
  {
   "cell_type": "markdown",
   "metadata": {},
   "source": [
    "เก็บข้อมูล (Properties/Fields)\n",
    "\n",
    "กำหนดพฤติกรรม (Methods)\n",
    "\n",
    "จัดการการเข้าถึงข้อมูล (Access Modifiers)\n",
    "\n",
    "สร้างแม่แบบสำหรับสร้าง Object"
   ]
  },
  {
   "cell_type": "markdown",
   "metadata": {},
   "source": [
    "3. ทำไมเราต้องใช้ Class\n"
   ]
  },
  {
   "cell_type": "markdown",
   "metadata": {},
   "source": [
    "*คำตอบ*"
   ]
  },
  {
   "cell_type": "markdown",
   "metadata": {},
   "source": [
    "1. การจัดระเบียบและการบูรณาการข้อมูลและฟังก์ชัน\n",
    "\n",
    "2. การเพิ่มความยืดหยุ่น\n",
    "\n",
    "3. การซ่อนรายละเอียด\n",
    "\n",
    "4. การจัดการความสัมพันธ์ระหว่างออบเจ็กต์\n",
    "\n",
    "5. การปรับปรุงการบำรุงรักษาและการทดสอบ\n",
    "\n",
    "6. การรองรับการทำงานในรูปแบบ OOP\n",
    "\n",
    "7. การทำให้โค้ดเข้าใจง่ายขึ้น"
   ]
  },
  {
   "cell_type": "markdown",
   "metadata": {},
   "source": [
    "4. ส่วนประกอบของ Class มีอะไรบ้าง\n"
   ]
  },
  {
   "cell_type": "markdown",
   "metadata": {},
   "source": [
    "*คำตอบ*"
   ]
  },
  {
   "cell_type": "markdown",
   "metadata": {},
   "source": [
    "Fields - เก็บข้อมูลหรือสถานะของคลาส\n",
    "\n",
    "Properties - ควบคุมการเข้าถึงข้อมูล\n",
    "\n",
    "Constructor - เมธอดพิเศษที่ทำงานตอนสร้างอ็อบเจ็กต์\n",
    "\n",
    "Methods - ฟังก์ชันที่กำหนดพฤติกรรมของคลาส\n",
    "\n",
    "Events - แจ้งเตือนเมื่อมีการเปลี่ยนแปลงสำคัญ\n",
    "\n",
    "Delegates - ตัวแทนเมธอดที่สามารถส่งต่อได้"
   ]
  },
  {
   "cell_type": "markdown",
   "metadata": {},
   "source": [
    "5. Class และ Object แตกต่างกันอย่างไร\n"
   ]
  },
  {
   "cell_type": "markdown",
   "metadata": {},
   "source": [
    "*คำตอบ*"
   ]
  },
  {
   "cell_type": "markdown",
   "metadata": {},
   "source": [
    "คลาส (Class) คือแม่แบบหรือเทมเพลตที่กำหนดคุณสมบัติและพฤติกรรมของออบเจ็กต์\n",
    "ออบเจ็กต์ (Object) คืออินสแตนซ์หรือการสร้างขึ้นมาจากคลาส โดยที่แต่ละออบเจ็กต์จะมีข้อมูลและพฤติกรรมที่เฉพาะตัว\n",
    "คลาสเป็นสิ่งที่เรากำหนดไว้ในโปรแกรม ส่วนออบเจ็กต์คือสิ่งที่เราสร้างจากคลาสนั้นเพื่อนำไปใช้งานจริง"
   ]
  },
  {
   "cell_type": "markdown",
   "metadata": {},
   "source": [
    "6. การตั้งชื่อ Class มีหลักเกณฑ์อย่างไร"
   ]
  },
  {
   "cell_type": "markdown",
   "metadata": {},
   "source": [
    "*คำตอบ*"
   ]
  },
  {
   "cell_type": "markdown",
   "metadata": {},
   "source": [
    "ขึ้นต้นด้วยอักษรพิมพ์ใหญ่\n",
    "\n",
    "ใช้คำนาม\n",
    "\n",
    "ชื่อต้องสื่อความหมาย\n",
    "\n",
    "ห้ามมีเว้นวรรค\n",
    "\n",
    "ห้ามขึ้นต้นด้วยตัวเลข"
   ]
  },
  {
   "cell_type": "markdown",
   "metadata": {},
   "source": [
    "7. คำสั่ง p.GetType() คืออะไร"
   ]
  },
  {
   "cell_type": "markdown",
   "metadata": {},
   "source": [
    "*คำตอบ*"
   ]
  },
  {
   "cell_type": "markdown",
   "metadata": {},
   "source": [
    "เป็นวิธีที่ใช้ในการดึง ประเภท (Type) ของอ็อบเจ็กต์ที่ตัวแปร p อ้างอิงอยู่ ซึ่งจะคืนค่าที่เป็น ชนิดข้อมูล (Type) ของอ็อบเจ็กต์นั้น ๆ ที่สามารถใช้งานได้ในโค้ด"
   ]
  },
  {
   "cell_type": "markdown",
   "metadata": {},
   "source": [
    "8. ผลที่ได้จากคำสั่ง  p.GetType() คืออะไร มันให้ข้อมูลอะไรแก่เราบ้าง"
   ]
  },
  {
   "cell_type": "markdown",
   "metadata": {},
   "source": [
    "*คำตอบ*"
   ]
  },
  {
   "cell_type": "markdown",
   "metadata": {},
   "source": [
    "ตอบ ข้อมูลที่ได้จาก p.GetType():\n",
    "ชื่อประเภท (Type): สามารถดูชื่อของประเภทของอ็อบเจ็กต์ เช่น System.String, MyClass\n",
    "ชื่อเต็ม (Full Name): ชื่อเต็มรวม namespace\n",
    "Assembly: ข้อมูลเกี่ยวกับ assembly ที่คลาสนี้มาจาก\n",
    "สามารถใช้ Reflection: เพื่อดึงข้อมูลเพิ่มเติมเกี่ยวกับเมธอด, ฟิลด์, และสมาชิกอื่นๆ ของประเภทนั้น"
   ]
  },
  {
   "cell_type": "markdown",
   "metadata": {},
   "source": [
    "9. ในภาษา C# การประกาศ class ไว้ก่อนหรือหลังการสร้าง  object ต่างกันหรือไม่ "
   ]
  },
  {
   "cell_type": "markdown",
   "metadata": {},
   "source": [
    "ตอบ ต่างกัน ในภาษา C# ต้องประกาศ class ก่อนที่จะสามารถสร้าง object จาก class นั้นได้\n",
    "คอมไพเลอร์ต้องรู้จัก ประเภท ของตัวแปร (ในที่นี้คือ class) ก่อนการสร้างอ็อบเจ็กต์จาก class นั้น\n",
    "การประกาศ class หลัง การสร้าง object จะทำให้เกิดข้อผิดพลาดเนื่องจากคอมไพเลอร์ไม่รู้จักประเภทของ object ที่ต้องการสร้าง"
   ]
  },
  {
   "cell_type": "markdown",
   "metadata": {},
   "source": [
    "*คำตอบ*"
   ]
  }
 ],
 "metadata": {
  "kernelspec": {
   "display_name": ".NET (C#)",
   "language": "C#",
   "name": ".net-csharp"
  },
  "polyglot_notebook": {
   "kernelInfo": {
    "defaultKernelName": "csharp",
    "items": [
     {
      "aliases": [],
      "languageName": "csharp",
      "name": "csharp"
     }
    ]
   }
  }
 },
 "nbformat": 4,
 "nbformat_minor": 2
}
