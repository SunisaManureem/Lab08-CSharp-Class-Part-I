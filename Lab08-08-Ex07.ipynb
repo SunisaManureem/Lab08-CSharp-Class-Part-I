{
 "cells": [
  {
   "cell_type": "markdown",
   "metadata": {
    "dotnet_interactive": {
     "language": "csharp"
    },
    "polyglot_notebook": {
     "kernelName": "csharp"
    }
   },
   "source": [
    "# Lab 8 Exercise 7\n",
    "\n",
    "## Method with parameter and return value"
   ]
  },
  {
   "cell_type": "markdown",
   "metadata": {},
   "source": [
    "1. สร้าง console application project\n",
    "\n",
    "```\n",
    "    dotnet new console --name Lab08_Ex07\n",
    "```"
   ]
  },
  {
   "cell_type": "markdown",
   "metadata": {},
   "source": [
    "2. เปลี่ยน code ให้เป็นดังต่อไปนี้\n",
    "\n",
    "> ```csharp\n",
    ">  1. var adder = new MyProgram();\n",
    ">  2. int x = 2, y = 3;\n",
    ">  3. int add_result = adder.add(x, y);\n",
    ">  4. System.Console.WriteLine($\"{x} + {y} = {add_result}\");\n",
    ">  5. \n",
    ">  6. int i = 2, j = 3;\n",
    ">  7. int multiply_result = adder.multiply(i, j);\n",
    ">  8. System.Console.WriteLine($\"{i} x {j} = {multiply_result}\");\n",
    ">  9. \n",
    "> 10. class MyProgram\n",
    "> 11. {\n",
    "> 12.     public int add(int a, int b)\n",
    "> 13.     {\n",
    "> 14.         return a + b;\n",
    "> 15.     }\n",
    "> 16.     public int multiply(int a, int b)\n",
    "> 17.     {\n",
    "> 18.         return a * b;\n",
    "> 19.     }\n",
    "> 20. }\n",
    "> ```\n",
    "\n"
   ]
  },
  {
   "cell_type": "markdown",
   "metadata": {},
   "source": [
    "3. Build project โดยการใช้คำสั่ง\n",
    "\n",
    "```\n",
    "    dotnet build  Lab08_Ex07\n",
    "```"
   ]
  },
  {
   "cell_type": "markdown",
   "metadata": {},
   "source": [
    "4. บันทึกผลที่ได้จากการรันคำสั่งในข้อ 3\n",
    "\n"
   ]
  },
  {
   "cell_type": "markdown",
   "metadata": {},
   "source": [
    "*คำตอบ*"
   ]
  },
  {
   "cell_type": "markdown",
   "metadata": {},
   "source": [
    "PS C:\\Users\\user\\Downloads\\Lab\\Lab08-CSharp-Class-Part-I> dotnet build  Lab08_Ex07\n",
    "Restore complete (0.2s)\n",
    "  Lab08_Ex07 succeeded (2.1s) → Lab08_Ex07\\bin\\Debug\\net9.0\\Lab08_Ex07.dll\n",
    "\n",
    "Build succeeded in 2.7s"
   ]
  },
  {
   "cell_type": "markdown",
   "metadata": {},
   "source": [
    "5. Run project โดยการใช้คำสั่ง\n",
    "\n",
    "```\n",
    "    dotnet run --project Lab08_Ex07\n",
    "```"
   ]
  },
  {
   "cell_type": "markdown",
   "metadata": {},
   "source": [
    "6. บันทึกผลที่ได้จากการรันคำสั่งในข้อ 5\n",
    "\n",
    "\n",
    "\n"
   ]
  },
  {
   "cell_type": "markdown",
   "metadata": {},
   "source": [
    "*คำตอบ*"
   ]
  },
  {
   "cell_type": "markdown",
   "metadata": {},
   "source": [
    "PS C:\\Users\\user\\Downloads\\Lab\\Lab08-CSharp-Class-Part-I> dotnet run --project Lab08_Ex07\n",
    "\n",
    "2 + 3 = 5\n",
    "\n",
    "2 x 3 = 6"
   ]
  },
  {
   "cell_type": "markdown",
   "metadata": {},
   "source": [
    "7. อธิบายสิ่งที่พบในการทดลอง\n",
    "\n"
   ]
  },
  {
   "cell_type": "markdown",
   "metadata": {},
   "source": [
    "*คำตอบ*"
   ]
  },
  {
   "cell_type": "markdown",
   "metadata": {},
   "source": [
    "ไม่พบ error หรือ warning เเละโค้ดนี้มีการสร้างอ็อบเจ็กต์ adder จากคลาส MyProgram, แล้วเรียกใช้เมธอด add และ multiply\n",
    "\n",
    "เพื่อคำนวณผลบวกและผลคูณของตัวเลขสองตัวที่ถูกส่งเข้าไปในแต่ละเมธอด.\n",
    "\n",
    "ผลลัพธ์จากการคำนวณจะแสดงบนคอนโซลตามลำดับที่กำหนดไว้ในคำสั่ง Console.WriteLine"
   ]
  },
  {
   "cell_type": "markdown",
   "metadata": {},
   "source": [
    "8. นำ code ในข้อ 2 มารันบน polyglot notebook  โดยใส่ใน  code cell ด้านล่างนี้\n"
   ]
  },
  {
   "cell_type": "code",
   "execution_count": null,
   "metadata": {
    "dotnet_interactive": {
     "language": "csharp"
    },
    "polyglot_notebook": {
     "kernelName": "csharp"
    }
   },
   "outputs": [
    {
     "name": "stdout",
     "output_type": "stream",
     "text": [
      "2 + 3 = 5\n",
      "2 x 3 = 6\n"
     ]
    }
   ],
   "source": [
    "// พื้นที่เขียน code ตามข้อ 2\n",
    "var adder = new MyProgram();\n",
    "   int x = 2, y = 3;\n",
    "   int add_result = adder.add(x, y);\n",
    "   System.Console.WriteLine($\"{x} + {y} = {add_result}\");\n",
    "   \n",
    "   int i = 2, j = 3;\n",
    "   int multiply_result = adder.multiply(i, j);\n",
    "   System.Console.WriteLine($\"{i} x {j} = {multiply_result}\");\n",
    "   \n",
    "  class MyProgram\n",
    "  {\n",
    "      public int add(int a, int b)\n",
    "      {\n",
    "          return a + b;\n",
    "      }\n",
    "      public int multiply(int a, int b)\n",
    "      {\n",
    "          return a * b;\n",
    "      }\n",
    "  }"
   ]
  },
  {
   "cell_type": "markdown",
   "metadata": {},
   "source": [
    "8.1 ผลการรันเป็นอย่างไร\n",
    "\n"
   ]
  },
  {
   "cell_type": "markdown",
   "metadata": {},
   "source": [
    "*คำตอบ*"
   ]
  },
  {
   "cell_type": "markdown",
   "metadata": {},
   "source": [
    "2 + 3 = 5\n",
    "\n",
    "2 x 3 = 6"
   ]
  },
  {
   "cell_type": "markdown",
   "metadata": {},
   "source": [
    "8.2 เหมือนหรือต่างจาก console application อย่างไร"
   ]
  },
  {
   "cell_type": "markdown",
   "metadata": {},
   "source": [
    "*คำตอบ*"
   ]
  },
  {
   "cell_type": "markdown",
   "metadata": {},
   "source": [
    "เหมือนกัน"
   ]
  },
  {
   "cell_type": "markdown",
   "metadata": {},
   "source": [
    "## คำถาม"
   ]
  },
  {
   "cell_type": "markdown",
   "metadata": {},
   "source": [
    "1. ให้เขียน method ที่รับ parameter เป็น string และส่งกลับค่าความยาวของ string นั้น"
   ]
  },
  {
   "cell_type": "code",
   "execution_count": null,
   "metadata": {
    "dotnet_interactive": {
     "language": "csharp"
    },
    "polyglot_notebook": {
     "kernelName": "csharp"
    }
   },
   "outputs": [
    {
     "name": "stdout",
     "output_type": "stream",
     "text": [
      "ความยาวของ \"Box\" คือ 3\r\n"
     ]
    }
   ],
   "source": [
    "// พื้นที่เขียน code และทดสอบ\n",
    "var program = new MyProgram();\n",
    "\n",
    "string text = \"Box\";\n",
    "int length = program.GetLength(text);\n",
    "System.Console.WriteLine($\"ความยาวของ \\\"{text}\\\" คือ {length}\");\n",
    "\n",
    "class MyProgram\n",
    "{\n",
    "    public int GetLength(string str)\n",
    "    {\n",
    "        return str.Length;\n",
    "    }\n",
    "}"
   ]
  },
  {
   "cell_type": "markdown",
   "metadata": {},
   "source": [
    "*คำตอบ*"
   ]
  },
  {
   "cell_type": "markdown",
   "metadata": {},
   "source": [
    "ความยาวของ \"Box\" คือ 3"
   ]
  },
  {
   "cell_type": "markdown",
   "metadata": {},
   "source": [
    "2. ให้สร้างโปรแกรมสูตรคูณ โดยประยุกต์ใช้เมธอด  `public int multiply(int a, int b)`\n"
   ]
  },
  {
   "cell_type": "code",
   "execution_count": null,
   "metadata": {
    "dotnet_interactive": {
     "language": "csharp"
    },
    "polyglot_notebook": {
     "kernelName": "csharp"
    }
   },
   "outputs": [
    {
     "name": "stdout",
     "output_type": "stream",
     "text": [
      "9 x 1 = 9\n",
      "9 x 2 = 18\n",
      "9 x 3 = 27\n",
      "9 x 4 = 36\n",
      "9 x 5 = 45\n",
      "9 x 6 = 54\n",
      "9 x 7 = 63\n",
      "9 x 8 = 72\n",
      "9 x 9 = 81\n",
      "9 x 10 = 90\n",
      "9 x 11 = 99\n",
      "9 x 12 = 108\n"
     ]
    }
   ],
   "source": [
    "// พื้นที่เขียน code และทดสอบ\n",
    " class MyProgram\n",
    "{\n",
    "    // เมธอดที่คูณตัวเลข 2 ตัวและส่งกลับผลลัพธ์\n",
    "    public int Multiply(int a, int b)\n",
    "    {\n",
    "        return a * b;  // คำนวณผลคูณ\n",
    "    }\n",
    "}\n",
    "\n",
    "   var calculator = new MyProgram();\n",
    "\n",
    "        // กำหนดตัวเลขที่ต้องการให้คูณ (เช่น ตารางสูตรคูณ 2)\n",
    "        int number = 9;\n",
    "\n",
    "        // แสดงผลตารางสูตรคูณจาก 1 ถึง 12\n",
    "        for (int i = 1; i <= 12; i++)\n",
    "        {\n",
    "            int result = calculator.Multiply(number, i); // เรียกเมธอด multiply\n",
    "            Console.WriteLine($\"{number} x {i} = {result}\");\n",
    "        }"
   ]
  },
  {
   "cell_type": "markdown",
   "metadata": {},
   "source": [
    "*คำตอบ*"
   ]
  },
  {
   "cell_type": "markdown",
   "metadata": {},
   "source": [
    "9 x 1 = 9\n",
    "\n",
    "9 x 2 = 18\n",
    "\n",
    "9 x 3 = 27\n",
    "\n",
    "9 x 4 = 36\n",
    "\n",
    "9 x 5 = 45\n",
    "\n",
    "9 x 6 = 54\n",
    "\n",
    "9 x 7 = 63\n",
    "\n",
    "9 x 8 = 72\n",
    "\n",
    "9 x 9 = 81\n",
    "\n",
    "9 x 10 = 90\n",
    "\n",
    "9 x 11 = 99\n",
    "\n",
    "9 x 12 = 108"
   ]
  },
  {
   "cell_type": "markdown",
   "metadata": {},
   "source": [
    "3. จากโปรแกรมในคำถามข้อที่ 2 ให้สร้างเป็นสูตรคูณ แม่ 2 - 12"
   ]
  },
  {
   "cell_type": "code",
   "execution_count": null,
   "metadata": {
    "dotnet_interactive": {
     "language": "csharp"
    },
    "polyglot_notebook": {
     "kernelName": "csharp"
    }
   },
   "outputs": [
    {
     "name": "stdout",
     "output_type": "stream",
     "text": [
      "2 × 1 = 2\t3 × 1 = 3\t4 × 1 = 4\t5 × 1 = 5\t6 × 1 = 6\t7 × 1 = 7\t8 × 1 = 8\t9 × 1 = 9\t10 × 1 = 10\t11 × 1 = 11\t12 × 1 = 12\t\n",
      "2 × 2 = 4\t3 × 2 = 6\t4 × 2 = 8\t5 × 2 = 10\t6 × 2 = 12\t7 × 2 = 14\t8 × 2 = 16\t9 × 2 = 18\t10 × 2 = 20\t11 × 2 = 22\t12 × 2 = 24\t\n",
      "2 × 3 = 6\t3 × 3 = 9\t4 × 3 = 12\t5 × 3 = 15\t6 × 3 = 18\t7 × 3 = 21\t8 × 3 = 24\t9 × 3 = 27\t10 × 3 = 30\t11 × 3 = 33\t12 × 3 = 36\t\n",
      "2 × 4 = 8\t3 × 4 = 12\t4 × 4 = 16\t5 × 4 = 20\t6 × 4 = 24\t7 × 4 = 28\t8 × 4 = 32\t9 × 4 = 36\t10 × 4 = 40\t11 × 4 = 44\t12 × 4 = 48\t\n",
      "2 × 5 = 10\t3 × 5 = 15\t4 × 5 = 20\t5 × 5 = 25\t6 × 5 = 30\t7 × 5 = 35\t8 × 5 = 40\t9 × 5 = 45\t10 × 5 = 50\t11 × 5 = 55\t12 × 5 = 60\t\n",
      "2 × 6 = 12\t3 × 6 = 18\t4 × 6 = 24\t5 × 6 = 30\t6 × 6 = 36\t7 × 6 = 42\t8 × 6 = 48\t9 × 6 = 54\t10 × 6 = 60\t11 × 6 = 66\t12 × 6 = 72\t\n",
      "2 × 7 = 14\t3 × 7 = 21\t4 × 7 = 28\t5 × 7 = 35\t6 × 7 = 42\t7 × 7 = 49\t8 × 7 = 56\t9 × 7 = 63\t10 × 7 = 70\t11 × 7 = 77\t12 × 7 = 84\t\n",
      "2 × 8 = 16\t3 × 8 = 24\t4 × 8 = 32\t5 × 8 = 40\t6 × 8 = 48\t7 × 8 = 56\t8 × 8 = 64\t9 × 8 = 72\t10 × 8 = 80\t11 × 8 = 88\t12 × 8 = 96\t\n",
      "2 × 9 = 18\t3 × 9 = 27\t4 × 9 = 36\t5 × 9 = 45\t6 × 9 = 54\t7 × 9 = 63\t8 × 9 = 72\t9 × 9 = 81\t10 × 9 = 90\t11 × 9 = 99\t12 × 9 = 108\t\n",
      "2 × 10 = 20\t3 × 10 = 30\t4 × 10 = 40\t5 × 10 = 50\t6 × 10 = 60\t7 × 10 = 70\t8 × 10 = 80\t9 × 10 = 90\t10 × 10 = 100\t11 × 10 = 110\t12 × 10 = 120\t\n",
      "2 × 11 = 22\t3 × 11 = 33\t4 × 11 = 44\t5 × 11 = 55\t6 × 11 = 66\t7 × 11 = 77\t8 × 11 = 88\t9 × 11 = 99\t10 × 11 = 110\t11 × 11 = 121\t12 × 11 = 132\t\n",
      "2 × 12 = 24\t3 × 12 = 36\t4 × 12 = 48\t5 × 12 = 60\t6 × 12 = 72\t7 × 12 = 84\t8 × 12 = 96\t9 × 12 = 108\t10 × 12 = 120\t11 × 12 = 132\t12 × 12 = 144\t\n"
     ]
    }
   ],
   "source": [
    "// พื้นที่เขียน code และทดสอบ\n",
    "// พื้นที่เขียน code และทดสอบ\n",
    "var program = new MyProgram();\n",
    "\n",
    "for (int i = 1; i <= 12; i++) // วนลูปคูณ 1 - 12\n",
    "{\n",
    "    for (int num = 2; num <= 12; num++) // เปลี่ยนตัวเลขแม่สูตรคูณ (2 - 5)\n",
    "    {\n",
    "        int result = program.multiply(num, i);\n",
    "        System.Console.Write($\"{num} × {i} = {result}\\t\"); // ใช้ \\t เพื่อจัดตำแหน่งให้อยู่ในคอลัมน์เดียวกัน\n",
    "    }\n",
    "    System.Console.WriteLine(); // ขึ้นบรรทัดใหม่เมื่อครบทุกแม่\n",
    "}\n",
    "\n",
    "class MyProgram\n",
    "{\n",
    "    public int multiply(int a, int b)\n",
    "    {\n",
    "        return a * b;\n",
    "    }\n",
    "}\n"
   ]
  },
  {
   "cell_type": "markdown",
   "metadata": {},
   "source": [
    "*คำตอบ*"
   ]
  },
  {
   "cell_type": "markdown",
   "metadata": {},
   "source": [
    "2 × 1 = 2\t3 × 1 = 3\t4 × 1 = 4\t5 × 1 = 5\t6 × 1 = 6\t7 × 1 = 7\t8 × 1 = 8\t9 × 1 = 9\t10 × 1 = 10\t11 × 1 = 11\t12 × 1 = 12\t\n",
    "\n",
    "2 × 2 = 4\t3 × 2 = 6\t4 × 2 = 8\t5 × 2 = 10\t6 × 2 = 12\t7 × 2 = 14\t8 × 2 = 16\t9 × 2 = 18\t10 × 2 = 20\t11 × 2 = 22\t12 × 2 = 24\t\n",
    "\n",
    "2 × 3 = 6\t3 × 3 = 9\t4 × 3 = 12\t5 × 3 = 15\t6 × 3 = 18\t7 × 3 = 21\t8 × 3 = 24\t9 × 3 = 27\t10 × 3 = 30\t11 × 3 = 33\t12 × 3 = 36\t\n",
    "\n",
    "2 × 4 = 8\t3 × 4 = 12\t4 × 4 = 16\t5 × 4 = 20\t6 × 4 = 24\t7 × 4 = 28\t8 × 4 = 32\t9 × 4 = 36\t10 × 4 = 40\t11 × 4 = 44\t12 × 4 = 48\t\n",
    "\n",
    "2 × 5 = 10\t3 × 5 = 15\t4 × 5 = 20\t5 × 5 = 25\t6 × 5 = 30\t7 × 5 = 35\t8 × 5 = 40\t9 × 5 = 45\t10 × 5 = 50\t11 × 5 = 55\t12 × 5 = 60\t\n",
    "\n",
    "2 × 6 = 12\t3 × 6 = 18\t4 × 6 = 24\t5 × 6 = 30\t6 × 6 = 36\t7 × 6 = 42\t8 × 6 = 48\t9 × 6 = 54\t10 × 6 = 60\t11 × 6 = 66\t12 × 6 = 72\t\n",
    "\n",
    "2 × 7 = 14\t3 × 7 = 21\t4 × 7 = 28\t5 × 7 = 35\t6 × 7 = 42\t7 × 7 = 49\t8 × 7 = 56\t9 × 7 = 63\t10 × 7 = 70\t11 × 7 = 77\t12 × 7 = 84\t\n",
    "\n",
    "2 × 8 = 16\t3 × 8 = 24\t4 × 8 = 32\t5 × 8 = 40\t6 × 8 = 48\t7 × 8 = 56\t8 × 8 = 64\t9 × 8 = 72\t10 × 8 = 80\t11 × 8 = 88\t12 × 8 = 96\t\n",
    "\n",
    "2 × 9 = 18\t3 × 9 = 27\t4 × 9 = 36\t5 × 9 = 45\t6 × 9 = 54\t7 × 9 = 63\t8 × 9 = 72\t9 × 9 = 81\t10 × 9 = 90\t11 × 9 = 99\t12 × 9 = 108\t\n",
    "\n",
    "2 × 10 = 20\t3 × 10 = 30\t4 × 10 = 40\t5 × 10 = 50\t6 × 10 = 60\t7 × 10 = 70\t8 × 10 = 80\t9 × 10 = 90\t10 × 10 = 100\t11 × 10 = 110\t12 × 10 = 120\t\n",
    "\n",
    "2 × 11 = 22\t3 × 11 = 33\t4 × 11 = 44\t5 × 11 = 55\t6 × 11 = 66\t7 × 11 = 77\t8 × 11 = 88\t9 × 11 = 99\t10 × 11 = 110\t11 × 11 = 121\t12 × 11 = 132\t\n",
    "\n",
    "2 × 12 = 24\t3 × 12 = 36\t4 × 12 = 48\t5 × 12 = 60\t6 × 12 = 72\t7 × 12 = 84\t8 × 12 = 96\t9 × 12 = 108\t10 × 12 = 120\t11 × 12 = 132\t12 × 12 = 144\t"
   ]
  }
 ],
 "metadata": {
  "kernelspec": {
   "display_name": ".NET (C#)",
   "language": "C#",
   "name": ".net-csharp"
  },
  "polyglot_notebook": {
   "kernelInfo": {
    "defaultKernelName": "csharp",
    "items": [
     {
      "aliases": [],
      "languageName": "csharp",
      "name": "csharp"
     }
    ]
   }
  }
 },
 "nbformat": 4,
 "nbformat_minor": 2
}
