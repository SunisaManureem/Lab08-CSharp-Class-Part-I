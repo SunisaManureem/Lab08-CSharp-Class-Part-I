{
 "cells": [
  {
   "cell_type": "markdown",
   "metadata": {},
   "source": [
    "# Lab 8 Exercise 4\n",
    "\n",
    "## Fields declaration and initialization\n",
    "\n"
   ]
  },
  {
   "cell_type": "markdown",
   "metadata": {},
   "source": [
    "\n",
    "1. สร้าง console application project\n",
    "\n",
    "```\n",
    "    dotnet new console --name Lab08_Ex04\n",
    "```\n"
   ]
  },
  {
   "cell_type": "markdown",
   "metadata": {},
   "source": [
    "\n",
    "2. เปลี่ยน code ให้เป็นดังต่อไปนี้\n",
    "\n",
    "> ```csharp\n",
    ">  1. var myObj = new MyClass();\n",
    ">  2. \n",
    ">  3. System.Console.WriteLine($\"Default integer      F1 = {myObj.F1}\");  //Implicit fields initialization\n",
    ">  4. System.Console.WriteLine($\"Default string       F2 = {myObj.F2}\");\n",
    ">  5. System.Console.WriteLine($\"Initialized integer  F3 = {myObj.F3}\");  //Explicit field initialization\n",
    ">  6. System.Console.WriteLine($\"Initialized string   F4 = {myObj.F4}\");\n",
    ">  7. \n",
    ">  8. class MyClass\n",
    ">  9. {\n",
    "> 10.    public int F1;\n",
    "> 11.    public string F2;\n",
    "> 12.    public int F3 = 100;\n",
    "> 13.    public string F4 = \"ASDF\";\n",
    "> 14. }\n",
    "> ```"
   ]
  },
  {
   "cell_type": "markdown",
   "metadata": {},
   "source": [
    "\n",
    "3. Build project โดยการใช้คำสั่ง\n",
    "\n",
    "```\n",
    "    dotnet build  Lab08_Ex04\n",
    "```"
   ]
  },
  {
   "cell_type": "markdown",
   "metadata": {},
   "source": [
    "\n",
    "4. บันทึกผลที่ได้จากการรันคำสั่งในข้อ 3\n"
   ]
  },
  {
   "cell_type": "markdown",
   "metadata": {},
   "source": [
    "*คำตอบ*"
   ]
  },
  {
   "cell_type": "markdown",
   "metadata": {},
   "source": [
    "PS C:\\Users\\user\\Downloads\\Lab\\Lab08-CSharp-Class-Part-I> dotnet build  Lab08_Ex04\n",
    "Restore complete (0.2s)\n",
    "  Lab08_Ex04 succeeded with 3 warning(s) (0.4s) → Lab08_Ex04\\bin\\Debug\\net9.0\\Lab08_Ex04.dll\n",
    "    C:\\Users\\user\\Downloads\\Lab\\Lab08-CSharp-Class-Part-I\\Lab08_Ex04\\Program.cs(11,20): warning CS8618: Non-nullable field 'F2' must contain a non-null value when exiting constructor. Consider adding the 'required' modifier or declaring the field as nullable.\n",
    "    C:\\Users\\user\\Downloads\\Lab\\Lab08-CSharp-Class-Part-I\\Lab08_Ex04\\Program.cs(10,17): warning CS0649: Field 'MyClass.F1' is never assigned to, and will always have its default value 0\n",
    "    C:\\Users\\user\\Downloads\\Lab\\Lab08-CSharp-Class-Part-I\\Lab08_Ex04\\Program.cs(11,20): warning CS0649: Field 'MyClass.F2' is never assigned to, and will always have its default value null\n",
    "\n",
    "Build succeeded with 3 warning(s) in 1.0s"
   ]
  },
  {
   "cell_type": "markdown",
   "metadata": {},
   "source": [
    "\n",
    "5. Run project โดยการใช้คำสั่ง\n",
    "\n",
    "```\n",
    "    dotnet run --project Lab08_Ex04\n",
    "```"
   ]
  },
  {
   "cell_type": "markdown",
   "metadata": {},
   "source": [
    "\n",
    "6. บันทึกผลที่ได้จากการรันคำสั่งในข้อ 5\n",
    "\n"
   ]
  },
  {
   "cell_type": "markdown",
   "metadata": {},
   "source": [
    "*คำตอบ*"
   ]
  },
  {
   "cell_type": "markdown",
   "metadata": {},
   "source": [
    "PS C:\\Users\\user\\Downloads\\Lab\\Lab08-CSharp-Class-Part-I>  dotnet run --project Lab08_Ex04\n",
    "\n",
    "Default integer      F1 = 0\n",
    "\n",
    "Default string       F2 = \n",
    "\n",
    "Initialized integer  F3 = 100\n",
    "\n",
    "Initialized string   F4 = ASDF"
   ]
  },
  {
   "cell_type": "markdown",
   "metadata": {},
   "source": [
    "7. อธิบายสิ่งที่พบในการทดลอง"
   ]
  },
  {
   "cell_type": "markdown",
   "metadata": {},
   "source": [
    "*คำตอบ*"
   ]
  },
  {
   "cell_type": "markdown",
   "metadata": {},
   "source": [
    "การ bulid รอบแรกจะมีการแจ้งWarning เเต่หลังจากนั้นเมื่อทำการ build อีกตรั้งจะไม่มีการแจ้ง Warning"
   ]
  },
  {
   "cell_type": "markdown",
   "metadata": {},
   "source": [
    "8. นำ code ในข้อ 2 มารันบน polyglot notebook  โดยใส่ใน  code cell ด้านล่างนี้\n"
   ]
  },
  {
   "cell_type": "code",
   "execution_count": null,
   "metadata": {
    "dotnet_interactive": {
     "language": "csharp"
    },
    "polyglot_notebook": {
     "kernelName": "csharp"
    }
   },
   "outputs": [
    {
     "name": "stdout",
     "output_type": "stream",
     "text": [
      "Default integer      F1 = 0\n",
      "Default string       F2 = \n",
      "Initialized integer  F3 = 100\n",
      "Initialized string   F4 = ASDF\n"
     ]
    }
   ],
   "source": [
    "// พื้นที่เขียน code ตามข้อ 2\n",
    "var myObj = new MyClass();\n",
    "  \n",
    "   System.Console.WriteLine($\"Default integer      F1 = {myObj.F1}\");  //Implicit fields initialization\n",
    "   System.Console.WriteLine($\"Default string       F2 = {myObj.F2}\");\n",
    "   System.Console.WriteLine($\"Initialized integer  F3 = {myObj.F3}\");  //Explicit field initialization\n",
    "   System.Console.WriteLine($\"Initialized string   F4 = {myObj.F4}\");\n",
    "   \n",
    "   class MyClass\n",
    "   {\n",
    "     public int F1;\n",
    "     public string F2;\n",
    "     public int F3 = 100;\n",
    "     public string F4 = \"ASDF\";\n",
    "  }"
   ]
  },
  {
   "cell_type": "markdown",
   "metadata": {},
   "source": [
    "8.1 ผลการรันเป็นอย่างไร\n",
    "\n"
   ]
  },
  {
   "cell_type": "markdown",
   "metadata": {},
   "source": [
    "*คำตอบ*"
   ]
  },
  {
   "cell_type": "markdown",
   "metadata": {},
   "source": [
    "Default integer      F1 = 0\n",
    "\n",
    "Default string       F2 = \n",
    "\n",
    "Initialized integer  F3 = 100\n",
    "\n",
    "Initialized string   F4 = ASDF"
   ]
  },
  {
   "cell_type": "markdown",
   "metadata": {},
   "source": [
    "8.2 เหมือนหรือต่างจาก console application อย่างไร"
   ]
  },
  {
   "cell_type": "markdown",
   "metadata": {},
   "source": [
    "*คำตอบ*"
   ]
  },
  {
   "cell_type": "markdown",
   "metadata": {},
   "source": [
    "ให้ผลเหมือนกันคือ  Default integer     \n",
    "\n",
    "F1 = 0\n",
    "\n",
    "Default string       F2 = \n",
    "\n",
    "Initialized integer  F3 = 100\n",
    "\n",
    "Initialized string   F4 = ASDF"
   ]
  },
  {
   "cell_type": "markdown",
   "metadata": {},
   "source": [
    "## คำถาม"
   ]
  },
  {
   "cell_type": "markdown",
   "metadata": {},
   "source": [
    "1. Field ในภาษา C# คืออะไร\n"
   ]
  },
  {
   "cell_type": "markdown",
   "metadata": {},
   "source": [
    "*คำตอบ*"
   ]
  },
  {
   "cell_type": "markdown",
   "metadata": {},
   "source": [
    "ในภาษา C# Field คือ ตัวแปร ที่ประกาศไว้ภายใน คลาส หรือ โครงสร้าง (struct) ซึ่งใช้เพื่อเก็บข้อมูลที่จำเป็นสำหรับคลาสหรือโครงสร้างนั้น ๆ"
   ]
  },
  {
   "cell_type": "markdown",
   "metadata": {},
   "source": [
    "2. Field มีหน้าที่อะไรใน class \n"
   ]
  },
  {
   "cell_type": "markdown",
   "metadata": {},
   "source": [
    "*คำตอบ*"
   ]
  },
  {
   "cell_type": "markdown",
   "metadata": {},
   "source": [
    "Field ในคลาสมีหน้าที่สำคัญในการเก็บข้อมูลหรือสถานะที่เกี่ยวข้องกับอ็อบเจ็กต์หรือคลาสนั้น ๆ โดยข้อมูลเหล่านี้จะถูกใช้ใน Methods เพื่อประมวลผล หรือใช้ในการตัดสินใจภายในคลาส การใช้ Field ทำให้คลาสสามารถเก็บข้อมูลและทำงานได้ตามที่ต้องการ"
   ]
  },
  {
   "cell_type": "markdown",
   "metadata": {},
   "source": [
    "3. การประกาศ Field ทำได้อย่างไร"
   ]
  },
  {
   "cell_type": "markdown",
   "metadata": {},
   "source": [
    "*คำตอบ*"
   ]
  },
  {
   "cell_type": "markdown",
   "metadata": {},
   "source": [
    "การประกาศ Field ในภาษา C# ทำได้โดยการระบุชนิดข้อมูล (Data Type) และชื่อของ Field ภายในคลาส (Class) หรือโครงสร้าง (Struct)\n",
    "\n",
    "[access modifier] [type] [field name]; รูปแบบการประกาศ"
   ]
  },
  {
   "cell_type": "markdown",
   "metadata": {},
   "source": [
    "4. Implicit fields initialization  คืออะไร"
   ]
  },
  {
   "cell_type": "markdown",
   "metadata": {},
   "source": [
    "*คำตอบ*"
   ]
  },
  {
   "cell_type": "markdown",
   "metadata": {},
   "source": [
    "ในภาษา C#, Implicit Fields Initialization หมายถึงการกำหนดค่าเริ่มต้นให้กับ Field โดยอัตโนมัติ (โดยที่ไม่ต้องกำหนดค่าใน Constructor หรือ Method ของคลาส)\n",
    "\n",
    "โดยปกติแล้วในภาษา C#, ถ้าเราไม่กำหนดค่าเริ่มต้นให้กับ Field (หรือให้ค่าเริ่มต้นใน Constructor) ค่าเริ่มต้นของ Field จะถูกกำหนดตามประเภทข้อมูล (data type) ที่ใช้"
   ]
  },
  {
   "cell_type": "markdown",
   "metadata": {},
   "source": [
    "5. Explicit field initialization คืออะไร\n",
    "\n"
   ]
  },
  {
   "cell_type": "markdown",
   "metadata": {},
   "source": [
    "*คำตอบ*"
   ]
  },
  {
   "cell_type": "markdown",
   "metadata": {},
   "source": [
    "Explicit Field Initialization คือการกำหนดค่าเริ่มต้นให้กับ Field ในคลาสโดยตรงในขณะที่ประกาศ Field นั้น ๆ แทนการให้ C# กำหนดค่าเริ่มต้นให้โดยอัตโนมัติ (เหมือนกับในกรณีของ Implicit Field Initialization)\n",
    "\n",
    "การ Explicit Field Initialization ช่วยให้คุณสามารถกำหนดค่าเริ่มต้นเฉพาะสำหรับ Field แต่ละตัวได้ตามต้องการ และค่าที่กำหนดจะถูกใช้เมื่อมีการสร้างอ็อบเจ็กต์จากคลาสนั้น"
   ]
  },
  {
   "cell_type": "markdown",
   "metadata": {},
   "source": [
    "6. Implicit fields initialization  และ Explicit field initialization แตกต่างกันอย่างไร"
   ]
  },
  {
   "cell_type": "markdown",
   "metadata": {},
   "source": [
    "*คำตอบ*"
   ]
  },
  {
   "cell_type": "markdown",
   "metadata": {},
   "source": [
    "Implicit Field Initialization คือการที่ C# กำหนดค่าเริ่มต้นให้กับ Field โดยอัตโนมัติ หากไม่กำหนดค่าใด ๆ ซึ่งเป็นค่าพื้นฐานของประเภทข้อมูลนั้น ๆ (เช่น 0, false, null)\n",
    "Explicit Field Initialization คือการที่คุณกำหนดค่าเริ่มต้นให้กับ Field ด้วยตนเองในขณะที่ประกาศ Field นั้น ๆ ตามค่าที่คุณต้องการ"
   ]
  }
 ],
 "metadata": {
  "kernelspec": {
   "display_name": ".NET (C#)",
   "language": "C#",
   "name": ".net-csharp"
  },
  "polyglot_notebook": {
   "kernelInfo": {
    "defaultKernelName": "csharp",
    "items": [
     {
      "aliases": [],
      "languageName": "csharp",
      "name": "csharp"
     }
    ]
   }
  }
 },
 "nbformat": 4,
 "nbformat_minor": 2
}
