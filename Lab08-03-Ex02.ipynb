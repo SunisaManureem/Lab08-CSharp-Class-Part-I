{
 "cells": [
  {
   "cell_type": "markdown",
   "metadata": {},
   "source": [
    "# Lab 8 Exercise 2\n",
    "\n",
    "## การประกาศสมาชิกในคลาส (fields)\n"
   ]
  },
  {
   "cell_type": "markdown",
   "metadata": {},
   "source": [
    "\n",
    "\n",
    "1. สร้าง console application project\n",
    "\n",
    "```\n",
    "    dotnet new console --name Lab08_Ex02\n",
    "```\n"
   ]
  },
  {
   "cell_type": "markdown",
   "metadata": {},
   "source": [
    "\n",
    "2. เปลี่ยน code ให้เป็นดังต่อไปนี้ (ตัวเลขข้างหน้า คือหมายเลขบรรทัด ไว้สำหรับอ้างอิง)\n",
    "\n",
    "> ```csharp\n",
    ">  1. Person p = new Person();\n",
    ">  2. p.name = \"Rambo\";\n",
    ">  3. p.id = \"1987\";\n",
    ">  4. p.income = 2500;\n",
    ">  5. System.Console.WriteLine($\"Type of p is {p.GetType()}\");\n",
    ">  6. System.Console.WriteLine($\"p.name = {p.name}\\ttype = {p.name.GetType()}\");\n",
    ">  7. System.Console.WriteLine($\"p.id = {p.id}\\ttype = {p.id.GetType()}\");\n",
    ">  8. System.Console.WriteLine($\"p.income = {p.income}\\ttype = {p.income.GetType()}\");\n",
    ">  9. \n",
    "> 10. class Person\n",
    "> 11. {\n",
    "> 12.     string name;\n",
    "> 13.     string id;\n",
    "> 14.     int income;\n",
    "> 15. }\n",
    "> ```\n"
   ]
  },
  {
   "cell_type": "markdown",
   "metadata": {},
   "source": [
    "\n",
    "3. Build project โดยการใช้คำสั่ง\n",
    "\n",
    "```\n",
    "    dotnet build  Lab08_Ex02\n",
    "```\n"
   ]
  },
  {
   "cell_type": "markdown",
   "metadata": {},
   "source": [
    "\n",
    "4. บันทึกผลที่ได้จากการรันคำสั่งในข้อ 3\n"
   ]
  },
  {
   "cell_type": "markdown",
   "metadata": {},
   "source": [
    "*คำตอบ*"
   ]
  },
  {
   "cell_type": "markdown",
   "metadata": {},
   "source": [
    "Restore complete (0.2s)\n",
    "  Lab08_Ex02 failed with 9 error(s) and 5 warning(s) (2.0s)\n",
    "    C:\\Users\\user\\Downloads\\Lab\\Lab08-CSharp-Class-Part-I\\Lab08_Ex02\\Program.cs(12,14): warning CS8618: Non-nullable field 'name' must contain a non-null value when exiting constructor. Consider adding the 'required' modifier or declaring the field as nullable.\n",
    "    C:\\Users\\user\\Downloads\\Lab\\Lab08-CSharp-Class-Part-I\\Lab08_Ex02\\Program.cs(13,14): warning CS8618: Non-nullable field 'id' must contain a non-null value when exiting constructor. Consider adding the 'required' modifier or declaring the field as nullable.\n",
    "    C:\\Users\\user\\Downloads\\Lab\\Lab08-CSharp-Class-Part-I\\Lab08_Ex02\\Program.cs(2,6): error CS0122: 'Person.name' is inaccessible due to its protection level\n",
    "    C:\\Users\\user\\Downloads\\Lab\\Lab08-CSharp-Class-Part-I\\Lab08_Ex02\\Program.cs(3,6): error CS0122: 'Person.id' is inaccessible due to its protection level\n",
    "    C:\\Users\\user\\Downloads\\Lab\\Lab08-CSharp-Class-Part-I\\Lab08_Ex02\\Program.cs(4,6): error CS0122: 'Person.income' is inaccessible due to its protection level\n",
    "    C:\\Users\\user\\Downloads\\Lab\\Lab08-CSharp-Class-Part-I\\Lab08_Ex02\\Program.cs(6,43): error CS0122: 'Person.name' is inaccessible due to its protection level\n",
    "    C:\\Users\\user\\Downloads\\Lab\\Lab08-CSharp-Class-Part-I\\Lab08_Ex02\\Program.cs(6,60): error CS0122: 'Person.name' is inaccessible due to its protection level\n",
    "    C:\\Users\\user\\Downloads\\Lab\\Lab08-CSharp-Class-Part-I\\Lab08_Ex02\\Program.cs(7,41): error CS0122: 'Person.id' is inaccessible due to its protection level\n",
    "    C:\\Users\\user\\Downloads\\Lab\\Lab08-CSharp-Class-Part-I\\Lab08_Ex02\\Program.cs(7,56): error CS0122: 'Person.id' is inaccessible due to its protection level\n",
    "    C:\\Users\\user\\Downloads\\Lab\\Lab08-CSharp-Class-Part-I\\Lab08_Ex02\\Program.cs(8,45): error CS0122: 'Person.income' is inaccessible due to its protection level\n",
    "    C:\\Users\\user\\Downloads\\Lab\\Lab08-CSharp-Class-Part-I\\Lab08_Ex02\\Program.cs(8,64): error CS0122: 'Person.income' is inaccessible due to its protection level\n",
    "    C:\\Users\\user\\Downloads\\Lab\\Lab08-CSharp-Class-Part-I\\Lab08_Ex02\\Program.cs(14,11): warning CS0169: The field 'Person.income' is never used\n",
    "    C:\\Users\\user\\Downloads\\Lab\\Lab08-CSharp-Class-Part-I\\Lab08_Ex02\\Program.cs(13,14): warning CS0169: The field 'Person.id' is never used\n",
    "    C:\\Users\\user\\Downloads\\Lab\\Lab08-CSharp-Class-Part-I\\Lab08_Ex02\\Program.cs(12,14): warning CS0169: The field 'Person.name' is never used\n",
    "\n",
    "Build failed with 9 error(s) and 5 warning(s) in 2.6s"
   ]
  },
  {
   "cell_type": "markdown",
   "metadata": {},
   "source": [
    "\n",
    "5. Run project โดยการใช้คำสั่ง\n",
    "\n",
    "```\n",
    "    dotnet run --project Lab08_Ex02\n",
    "```\n"
   ]
  },
  {
   "cell_type": "markdown",
   "metadata": {},
   "source": [
    "\n",
    "6. บันทึกผลที่ได้จากการรันคำสั่งในข้อ 5\n",
    "\n"
   ]
  },
  {
   "cell_type": "markdown",
   "metadata": {},
   "source": [
    "*คำตอบ*"
   ]
  },
  {
   "cell_type": "markdown",
   "metadata": {},
   "source": [
    "PS C:\\Users\\user\\Downloads\\Lab\\Lab08-CSharp-Class-Part-I>  dotnet run --project Lab08_Ex02\n",
    "C:\\Users\\user\\Downloads\\Lab\\Lab08-CSharp-Class-Part-I\\Lab08_Ex02\\Program.cs(12,14): warning CS8618: Non-nullable field 'name' must contain a non-null value when exiting constructor. Consider adding the 'required' modifier or declaring the field as nullable.\n",
    "C:\\Users\\user\\Downloads\\Lab\\Lab08-CSharp-Class-Part-I\\Lab08_Ex02\\Program.cs(13,14): warning CS8618: Non-nullable field 'id' must contain a non-null value when exiting constructor. Consider adding the 'required' modifier or declaring the field as nullable.\n",
    "C:\\Users\\user\\Downloads\\Lab\\Lab08-CSharp-Class-Part-I\\Lab08_Ex02\\Program.cs(2,6): error CS0122: 'Person.name' is inaccessible due to its protection level\n",
    "C:\\Users\\user\\Downloads\\Lab\\Lab08-CSharp-Class-Part-I\\Lab08_Ex02\\Program.cs(3,6): error CS0122: 'Person.id' is inaccessible due to its protection level\n",
    "C:\\Users\\user\\Downloads\\Lab\\Lab08-CSharp-Class-Part-I\\Lab08_Ex02\\Program.cs(4,6): error CS0122: 'Person.income' is inaccessible due to its protection level\n",
    "C:\\Users\\user\\Downloads\\Lab\\Lab08-CSharp-Class-Part-I\\Lab08_Ex02\\Program.cs(6,43): error CS0122: 'Person.name' is inaccessible due to its protection level\n",
    "C:\\Users\\user\\Downloads\\Lab\\Lab08-CSharp-Class-Part-I\\Lab08_Ex02\\Program.cs(6,60): error CS0122: 'Person.name' is inaccessible due to its protection level\n",
    "C:\\Users\\user\\Downloads\\Lab\\Lab08-CSharp-Class-Part-I\\Lab08_Ex02\\Program.cs(7,41): error CS0122: 'Person.id' is inaccessible due to its protection level\n",
    "C:\\Users\\user\\Downloads\\Lab\\Lab08-CSharp-Class-Part-I\\Lab08_Ex02\\Program.cs(7,56): error CS0122: 'Person.id' is inaccessible due to its protection level\n",
    "C:\\Users\\user\\Downloads\\Lab\\Lab08-CSharp-Class-Part-I\\Lab08_Ex02\\Program.cs(8,45): error CS0122: 'Person.income' is inaccessible due to its protection level\n",
    "C:\\Users\\user\\Downloads\\Lab\\Lab08-CSharp-Class-Part-I\\Lab08_Ex02\\Program.cs(8,64): error CS0122: 'Person.income' is inaccessible due to its protection level\n",
    "C:\\Users\\user\\Downloads\\Lab\\Lab08-CSharp-Class-Part-I\\Lab08_Ex02\\Program.cs(12,14): warning CS0169: The field 'Person.name' is never used\n",
    "C:\\Users\\user\\Downloads\\Lab\\Lab08-CSharp-Class-Part-I\\Lab08_Ex02\\Program.cs(14,11): warning CS0169: The field 'Person.income' is never used\n",
    "C:\\Users\\user\\Downloads\\Lab\\Lab08-CSharp-Class-Part-I\\Lab08_Ex02\\Program.cs(13,14): warning CS0169: The field 'Person.id' is never used\n",
    "\n",
    "The build failed. Fix the build errors and run again.\n"
   ]
  },
  {
   "cell_type": "markdown",
   "metadata": {},
   "source": [
    "\n",
    "7. อธิบายสิ่งที่พบในการทดลอง\n",
    "\n"
   ]
  },
  {
   "cell_type": "markdown",
   "metadata": {},
   "source": [
    "*คำตอบ*"
   ]
  },
  {
   "cell_type": "markdown",
   "metadata": {},
   "source": [
    "เกิด error โค้ดนี้จะทำงานไม่สมบูรณ์ เนื่องจาก:\n",
    "ตัวแปรในคลาส Person ไม่ได้ถูกประกาศเป็น public หรือ property ซึ่งทำให้ไม่สามารถเข้าถึงหรือกำหนดค่าได้จากภายนอกคลาส Person\n",
    "เราต้องเปลี่ยนตัวแปร name, id, และ income ให้เป็น public หรือให้มี accessor (getter/setter) หรือ property ที่สามารถเข้าถึงได้จากภายนอก \n",
    "โค้ดที่ปรับปรุงเเล้ว\n",
    "\n",
    "using System;\n",
    "\n",
    "public class Program\n",
    "\n",
    "{\n",
    "\n",
    "    public static void Main()\n",
    "\n",
    "    {\n",
    "        Person p = new Person();\n",
    "\n",
    "        p.Name = \"Rambo\";  // ใช้ property\n",
    "\n",
    "        p.Id = \"1987\";     // ใช้ property\n",
    "\n",
    "        p.Income = 2500;   // ใช้ property\n",
    "\n",
    "        // แสดงประเภทของ p\n",
    "\n",
    "        System.Console.WriteLine($\"Type of p is {p.GetType()}\");\n",
    "\n",
    "        // แสดงประเภทของสมาชิก\n",
    "\n",
    "        System.Console.WriteLine($\"p.Name = {p.Name}\\ttype = {p.Name.GetType()}\");\n",
    "\n",
    "        System.Console.WriteLine($\"p.Id = {p.Id}\\ttype = {p.Id.GetType()}\");\n",
    "\n",
    "        System.Console.WriteLine($\"p.Income = {p.Income}\\ttype = {p.Income.GetType()}\");\n",
    "\n",
    "    }\n",
    "\n",
    "}\n",
    "\n",
    "public class Person\n",
    "\n",
    "{\n",
    "    \n",
    "    // ใช้ public properties เพื่อให้เข้าถึงได้จากภายนอก\n",
    "\n",
    "    public string Name { get; set; }\n",
    "\n",
    "    public string Id { get; set; }\n",
    "\n",
    "    public int Income { get; set; }\n",
    "    \n",
    "}\n",
    "\n",
    "หลังจากเเก้ไขโค้ดเเล้วรันจะได้ผลลัพธ์คือ  PS C:\\Users\\user\\Downloads\\Lab\\Lab08-CSharp-Class-Part-I> dotnet build  Lab08_Ex02\n",
    "Restore complete (0.2s)\n",
    "  Lab08_Ex02 succeeded with 2 warning(s) (0.5s) → Lab08_Ex02\\bin\\Debug\\net9.0\\Lab08_Ex02.dll\n",
    "    C:\\Users\\user\\Downloads\\Lab\\Lab08-CSharp-Class-Part-I\\Lab08_Ex02\\Program.cs(25,19): warning CS8618: Non-nullable property 'Name' must contain a non-null value when exiting constructor. Consider adding the 'required' modifier or declaring the property as nullable.\n",
    "    C:\\Users\\user\\Downloads\\Lab\\Lab08-CSharp-Class-Part-I\\Lab08_Ex02\\Program.cs(26,19): warning CS8618: Non-nullable property 'Id' must contain a non-null value when exiting constructor. Consider adding the 'required' modifier or declaring the property as nullable.\n",
    "\n",
    "Build succeeded with 2 warning(s) in 1.1s\n",
    "\n",
    "PS C:\\Users\\user\\Downloads\\Lab\\Lab08-CSharp-Class-Part-I>  dotnet run --project Lab08_Ex02\n",
    "\n",
    "Type of p is Person\n",
    "\n",
    "p.Name = Rambo  type = System.String\n",
    "\n",
    "p.Id = 1987     type = System.String\n",
    "\n",
    "p.Income = 2500 type = System.Int32\n"
   ]
  },
  {
   "cell_type": "markdown",
   "metadata": {},
   "source": [
    "8. นำ code ในข้อ 2 มารันบน polyglot notebook  โดยใส่ใน  code cell ด้านล่างนี้\n"
   ]
  },
  {
   "cell_type": "code",
   "execution_count": null,
   "metadata": {
    "dotnet_interactive": {
     "language": "csharp"
    },
    "polyglot_notebook": {
     "kernelName": "csharp"
    }
   },
   "outputs": [
    {
     "ename": "Error",
     "evalue": "(4,4): error CS0122: 'Person.name' is inaccessible due to its protection level\r\n(5,4): error CS0122: 'Person.id' is inaccessible due to its protection level\r\n(6,4): error CS0122: 'Person.income' is inaccessible due to its protection level\r\n(8,41): error CS0122: 'Person.name' is inaccessible due to its protection level\r\n(8,58): error CS0122: 'Person.name' is inaccessible due to its protection level\r\n(9,39): error CS0122: 'Person.id' is inaccessible due to its protection level\r\n(9,54): error CS0122: 'Person.id' is inaccessible due to its protection level\r\n(10,43): error CS0122: 'Person.income' is inaccessible due to its protection level\r\n(10,62): error CS0122: 'Person.income' is inaccessible due to its protection level",
     "output_type": "error",
     "traceback": [
      "(4,4): error CS0122: 'Person.name' is inaccessible due to its protection level\r\n",
      "(5,4): error CS0122: 'Person.id' is inaccessible due to its protection level\r\n",
      "(6,4): error CS0122: 'Person.income' is inaccessible due to its protection level\r\n",
      "(8,41): error CS0122: 'Person.name' is inaccessible due to its protection level\r\n",
      "(8,58): error CS0122: 'Person.name' is inaccessible due to its protection level\r\n",
      "(9,39): error CS0122: 'Person.id' is inaccessible due to its protection level\r\n",
      "(9,54): error CS0122: 'Person.id' is inaccessible due to its protection level\r\n",
      "(10,43): error CS0122: 'Person.income' is inaccessible due to its protection level\r\n",
      "(10,62): error CS0122: 'Person.income' is inaccessible due to its protection level"
     ]
    }
   ],
   "source": [
    "// พื้นที่เขียน code ตามข้อ 2\n",
    "\n",
    "Person p = new Person();\n",
    " p.name = \"Rambo\";\n",
    " p.id = \"1987\";\n",
    " p.income = 2500;\n",
    " System.Console.WriteLine($\"Type of p is {p.GetType()}\");\n",
    " System.Console.WriteLine($\"p.name = {p.name}\\ttype = {p.name.GetType()}\");\n",
    " System.Console.WriteLine($\"p.id = {p.id}\\ttype = {p.id.GetType()}\");\n",
    " System.Console.WriteLine($\"p.income = {p.income}\\ttype = {p.income.GetType()}\");\n",
    " \n",
    " class Person\n",
    " {\n",
    "     string name;\n",
    "     string id;\n",
    "     int income;\n",
    " }"
   ]
  },
  {
   "cell_type": "markdown",
   "metadata": {},
   "source": [
    "8.1 ผลการรันเป็นอย่างไร\n",
    "\n"
   ]
  },
  {
   "cell_type": "markdown",
   "metadata": {},
   "source": [
    "*คำตอบ*"
   ]
  },
  {
   "cell_type": "markdown",
   "metadata": {},
   "source": [
    "Error: (4,4): error CS0122: 'Person.name' is inaccessible due to its protection level\n",
    "(5,4): error CS0122: 'Person.id' is inaccessible due to its protection level\n",
    "(6,4): error CS0122: 'Person.income' is inaccessible due to its protection level\n",
    "(8,41): error CS0122: 'Person.name' is inaccessible due to its protection level\n",
    "(8,58): error CS0122: 'Person.name' is inaccessible due to its protection level\n",
    "(9,39): error CS0122: 'Person.id' is inaccessible due to its protection level\n",
    "(9,54): error CS0122: 'Person.id' is inaccessible due to its protection level\n",
    "(10,43): error CS0122: 'Person.income' is inaccessible due to its protection level\n",
    "(10,62): error CS0122: 'Person.income' is inaccessible due to its protection level"
   ]
  },
  {
   "cell_type": "markdown",
   "metadata": {},
   "source": [
    "8.2 เหมือนหรือค่างจาก console application อย่างไร"
   ]
  },
  {
   "cell_type": "markdown",
   "metadata": {},
   "source": [
    "*คำตอบ*"
   ]
  },
  {
   "cell_type": "markdown",
   "metadata": {},
   "source": [
    "ผลการรัน เกิด error คล้ายๆกัน แต่บางกรณี ผลการรันบน Terminal จะแจ้งเป็น Warning มาดด้วย"
   ]
  },
  {
   "cell_type": "markdown",
   "metadata": {},
   "source": [
    "## คำถาม"
   ]
  },
  {
   "cell_type": "markdown",
   "metadata": {},
   "source": [
    "1. Field ในภาษา C# คืออะไร\n"
   ]
  },
  {
   "cell_type": "markdown",
   "metadata": {},
   "source": [
    "*คำตอบ*"
   ]
  },
  {
   "cell_type": "markdown",
   "metadata": {},
   "source": [
    "Field คือ ตัวแปรที่ประกาศภายในคลาส หรือ struct ซึ่งใช้เก็บข้อมูล (state) ของอ็อบเจ็กต์หรือโครงสร้างนั้นๆ"
   ]
  },
  {
   "cell_type": "markdown",
   "metadata": {},
   "source": [
    "2. Field มีหน้าที่อะไรใน class \n"
   ]
  },
  {
   "cell_type": "markdown",
   "metadata": {},
   "source": [
    "*คำตอบ*"
   ]
  },
  {
   "cell_type": "markdown",
   "metadata": {},
   "source": [
    "Field ใน class มีหน้าที่เก็บข้อมูลของอ็อบเจ็กต์หรือคลาสนั้นๆ ซึ่งจะใช้เก็บข้อมูลที่เกี่ยวข้องกับ state ของอ็อบเจ็กต์ (instance) หรือข้อมูลที่ใช้ร่วมกันระหว่างทุกอ็อบเจ็กต์ของคลาส (static) ข้อมูลเหล่านี้สามารถนำไปใช้งานใน methods, constructors, หรือส่วนต่างๆ ของคลาสเพื่อให้คลาสนั้นๆ ทำงานตามที่ต้องการ"
   ]
  },
  {
   "cell_type": "markdown",
   "metadata": {},
   "source": [
    "3. การประกาศ Field ทำได้อย่างไร ให้อธิบายรูปแบบการประกาศ field ในคลาส\n"
   ]
  },
  {
   "cell_type": "markdown",
   "metadata": {},
   "source": [
    "*คำตอบ*"
   ]
  },
  {
   "cell_type": "markdown",
   "metadata": {},
   "source": [
    "Field คือตัวแปรที่ประกาศไว้ภายในคลาส (Class) หรือโครงสร้าง (Struct) เพื่อเก็บข้อมูลหรือสถานะของอ็อบเจ็กต์ (Object) ที่สร้างจากคลาสนั้นๆ\n",
    "\n",
    "[access modifier] [type] [field name]; รูปแบบการประกาศ"
   ]
  },
  {
   "cell_type": "markdown",
   "metadata": {},
   "source": [
    "4. Field และ Variable แตกต่างกันอย่างไร\n"
   ]
  },
  {
   "cell_type": "markdown",
   "metadata": {},
   "source": [
    "ตอบ Field:ประกาศใน class, struct, หรือ enum ใช้เก็บข้อมูลที่เกี่ยวข้องกับอ็อบเจ็กต์ (instance) หรือคลาส (static) มีขอบเขตอยู่ภายในคลาสหรือ struct และสามารถเข้าถึงได้ตาม access modifiers เช่น private, public\n",
    "\n",
    "Variable:ประกาศใน method, constructor, หรือ block ใช้เก็บข้อมูลชั่วคราวที่ใช้ในขอบเขตที่จำกัด เช่น ในฟังก์ชันหรือบล็อก\n",
    "ไม่สามารถเข้าถึงจากภายนอกฟังก์ชันหรือบล็อกที่ประกาศ\n",
    "\n",
    "การใช้งาน Field จะใช้สำหรับเก็บข้อมูลที่ต้องการให้คลาสหรืออ็อบเจ็กต์รักษาไว้ตลอดอายุการใช้งานของมัน เช่น ชื่อ, อายุ, หรือข้อมูลที่สำคัญสำหรับอ็อบเจ็กต์\n",
    "\n",
    "Variable จะใช้สำหรับเก็บข้อมูลที่ใช้ในฟังก์ชันหรือกระบวนการบางอย่างชั่วคราว โดยข้อมูลเหล่านั้นจะหายไปเมื่อการทำงานของฟังก์ชันหรือ block นั้นเสร็จสิ้น\n",
    "\n",
    "Field เป็นตัวแปรที่ประกาศในคลาสและจะอยู่ในอ็อบเจ็กต์หรือคลาสตลอดอายุการใช้งาน\n",
    "\n",
    "Variable เป็นตัวแปรที่ประกาศภายใน method หรือ block และจะมีขอบเขตจำกัดแค่ภายใน method หรือblock นั้น ๆ เท่านั้น"
   ]
  },
  {
   "cell_type": "markdown",
   "metadata": {},
   "source": [
    "5. เมื่อไหร่ควรใช้ Field และเมื่อไหร่ควรใช้ Variable"
   ]
  },
  {
   "cell_type": "markdown",
   "metadata": {},
   "source": [
    "*คำตอบ*"
   ]
  },
  {
   "cell_type": "markdown",
   "metadata": {},
   "source": [
    "ใช้ Field เมื่อข้อมูลต้องเก็บไว้ในอ็อบเจ็กต์หรือคลาสและต้องมีอายุการใช้งานระยะยาว\n",
    "\n",
    "ใช้ Variable เมื่อข้อมูลเป็นค่าชั่วคราวที่ใช้ภายใน method หรือ block เท่านั้น"
   ]
  },
  {
   "cell_type": "markdown",
   "metadata": {},
   "source": [
    "6. ในโปรแกรมการทดลองนี้ มี field หรือไม่ อยู่ในบรรทัดที่เท่าไหร่\n"
   ]
  },
  {
   "cell_type": "markdown",
   "metadata": {},
   "source": [
    "*คำตอบ*"
   ]
  },
  {
   "cell_type": "markdown",
   "metadata": {},
   "source": [
    "Field อยู่ในคลาส Person ซึ่งประกาศไว้ในบรรทัดที่ 12, 13, 14"
   ]
  },
  {
   "cell_type": "markdown",
   "metadata": {},
   "source": [
    "7. ผลจากการรันโปรแกรมใน Console Application และใน polyglot notebook เหมือนหรือแตกต่างกันอย่างไร"
   ]
  },
  {
   "cell_type": "markdown",
   "metadata": {},
   "source": [
    "*คำตอบ*"
   ]
  },
  {
   "cell_type": "markdown",
   "metadata": {},
   "source": [
    "Polyglot Notebook จะแสดงแค่ error แต่จะไม่แสดง warning ในรูปแบบที่เหมือนกับใน Terminal"
   ]
  }
 ],
 "metadata": {
  "kernelspec": {
   "display_name": ".NET (C#)",
   "language": "C#",
   "name": ".net-csharp"
  },
  "polyglot_notebook": {
   "kernelInfo": {
    "defaultKernelName": "csharp",
    "items": [
     {
      "aliases": [],
      "languageName": "csharp",
      "name": "csharp"
     }
    ]
   }
  }
 },
 "nbformat": 4,
 "nbformat_minor": 2
}
